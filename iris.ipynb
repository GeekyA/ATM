{
  "nbformat": 4,
  "nbformat_minor": 0,
  "metadata": {
    "colab": {
      "name": "iris",
      "provenance": [],
      "collapsed_sections": [],
      "authorship_tag": "ABX9TyMBL4A5hQspSrwEAjVT7AhD",
      "include_colab_link": true
    },
    "kernelspec": {
      "name": "python3",
      "display_name": "Python 3"
    },
    "language_info": {
      "name": "python"
    }
  },
  "cells": [
    {
      "cell_type": "markdown",
      "metadata": {
        "id": "view-in-github",
        "colab_type": "text"
      },
      "source": [
        "<a href=\"https://colab.research.google.com/github/ayushsood0909/ATM/blob/main/iris.ipynb\" target=\"_parent\"><img src=\"https://colab.research.google.com/assets/colab-badge.svg\" alt=\"Open In Colab\"/></a>"
      ]
    },
    {
      "cell_type": "code",
      "metadata": {
        "colab": {
          "base_uri": "https://localhost:8080/",
          "height": 229
        },
        "id": "NklDHwtElMtz",
        "outputId": "70ffee6f-d7ae-4233-ab1f-a1ba02b9ed20"
      },
      "source": [
        "from sklearn.datasets  import load_iris\n",
        "import pandas as pd\n",
        "iris=load_iris\n",
        "df=pd.DataFrame(data=iris.data,columns=[\"sepal_length\",\"sepal_width\",\"petal_length\",\"petal_width\"])*/\n",
        "df['species']=iris.target\n",
        "X=df[[\"sepal_length\",\"sepal_width\",\"petal_length\",\"petal_width\"]]\n",
        "Y=df[[\"species\"]]\n",
        "print(X)\n",
        "print(Y)"
      ],
      "execution_count": 5,
      "outputs": [
        {
          "output_type": "error",
          "ename": "AttributeError",
          "evalue": "ignored",
          "traceback": [
            "\u001b[0;31m---------------------------------------------------------------------------\u001b[0m",
            "\u001b[0;31mAttributeError\u001b[0m                            Traceback (most recent call last)",
            "\u001b[0;32m<ipython-input-5-a3a48c71e9c3>\u001b[0m in \u001b[0;36m<module>\u001b[0;34m()\u001b[0m\n\u001b[1;32m      2\u001b[0m \u001b[0;32mimport\u001b[0m \u001b[0mpandas\u001b[0m \u001b[0;32mas\u001b[0m \u001b[0mpd\u001b[0m\u001b[0;34m\u001b[0m\u001b[0;34m\u001b[0m\u001b[0m\n\u001b[1;32m      3\u001b[0m \u001b[0miris\u001b[0m\u001b[0;34m=\u001b[0m\u001b[0mload_iris\u001b[0m\u001b[0;34m\u001b[0m\u001b[0;34m\u001b[0m\u001b[0m\n\u001b[0;32m----> 4\u001b[0;31m \u001b[0mdf\u001b[0m\u001b[0;34m=\u001b[0m\u001b[0mpd\u001b[0m\u001b[0;34m.\u001b[0m\u001b[0mDataFrame\u001b[0m\u001b[0;34m(\u001b[0m\u001b[0mdata\u001b[0m\u001b[0;34m=\u001b[0m\u001b[0miris\u001b[0m\u001b[0;34m.\u001b[0m\u001b[0mdata\u001b[0m\u001b[0;34m,\u001b[0m\u001b[0mcolumns\u001b[0m\u001b[0;34m=\u001b[0m\u001b[0;34m[\u001b[0m\u001b[0;34m\"sepal_length\"\u001b[0m\u001b[0;34m,\u001b[0m\u001b[0;34m\"sepal_width\"\u001b[0m\u001b[0;34m,\u001b[0m\u001b[0;34m\"petal_length\"\u001b[0m\u001b[0;34m,\u001b[0m\u001b[0;34m\"petal_width\"\u001b[0m\u001b[0;34m]\u001b[0m\u001b[0;34m)\u001b[0m\u001b[0;34m\u001b[0m\u001b[0;34m\u001b[0m\u001b[0m\n\u001b[0m\u001b[1;32m      5\u001b[0m \u001b[0mdf\u001b[0m\u001b[0;34m[\u001b[0m\u001b[0;34m'species'\u001b[0m\u001b[0;34m]\u001b[0m\u001b[0;34m=\u001b[0m\u001b[0miris\u001b[0m\u001b[0;34m.\u001b[0m\u001b[0mtarget\u001b[0m\u001b[0;34m\u001b[0m\u001b[0;34m\u001b[0m\u001b[0m\n\u001b[1;32m      6\u001b[0m \u001b[0mX\u001b[0m\u001b[0;34m=\u001b[0m\u001b[0mdf\u001b[0m\u001b[0;34m[\u001b[0m\u001b[0;34m[\u001b[0m\u001b[0;34m\"sepal_length\"\u001b[0m\u001b[0;34m,\u001b[0m\u001b[0;34m\"sepal_width\"\u001b[0m\u001b[0;34m,\u001b[0m\u001b[0;34m\"petal_length\"\u001b[0m\u001b[0;34m,\u001b[0m\u001b[0;34m\"petal_width\"\u001b[0m\u001b[0;34m]\u001b[0m\u001b[0;34m]\u001b[0m\u001b[0;34m\u001b[0m\u001b[0;34m\u001b[0m\u001b[0m\n",
            "\u001b[0;31mAttributeError\u001b[0m: 'function' object has no attribute 'data'"
          ]
        }
      ]
    },
    {
      "cell_type": "code",
      "metadata": {
        "colab": {
          "base_uri": "https://localhost:8080/"
        },
        "id": "F_b97EvEqiuJ",
        "outputId": "95e417ef-addf-4950-fdfe-7a2b3aff7d36"
      },
      "source": [
        "import pandas as pd\n",
        "df=pd.read_csv('http://archive.ics.uci.edu/ml/machine-learning-databases/iris/iris.data')\n",
        "df.info()\n",
        "X=df[[\"5.1\",\"3.5\",\"1.4\",\"0.2\"]]\n",
        "Y=df[[\"Iris-setosa\"]]\n",
        "print(X)\n",
        "print(Y)"
      ],
      "execution_count": 10,
      "outputs": [
        {
          "output_type": "stream",
          "name": "stdout",
          "text": [
            "<class 'pandas.core.frame.DataFrame'>\n",
            "RangeIndex: 149 entries, 0 to 148\n",
            "Data columns (total 5 columns):\n",
            " #   Column       Non-Null Count  Dtype  \n",
            "---  ------       --------------  -----  \n",
            " 0   5.1          149 non-null    float64\n",
            " 1   3.5          149 non-null    float64\n",
            " 2   1.4          149 non-null    float64\n",
            " 3   0.2          149 non-null    float64\n",
            " 4   Iris-setosa  149 non-null    object \n",
            "dtypes: float64(4), object(1)\n",
            "memory usage: 5.9+ KB\n",
            "     5.1  3.5  1.4  0.2\n",
            "0    4.9  3.0  1.4  0.2\n",
            "1    4.7  3.2  1.3  0.2\n",
            "2    4.6  3.1  1.5  0.2\n",
            "3    5.0  3.6  1.4  0.2\n",
            "4    5.4  3.9  1.7  0.4\n",
            "..   ...  ...  ...  ...\n",
            "144  6.7  3.0  5.2  2.3\n",
            "145  6.3  2.5  5.0  1.9\n",
            "146  6.5  3.0  5.2  2.0\n",
            "147  6.2  3.4  5.4  2.3\n",
            "148  5.9  3.0  5.1  1.8\n",
            "\n",
            "[149 rows x 4 columns]\n",
            "        Iris-setosa\n",
            "0       Iris-setosa\n",
            "1       Iris-setosa\n",
            "2       Iris-setosa\n",
            "3       Iris-setosa\n",
            "4       Iris-setosa\n",
            "..              ...\n",
            "144  Iris-virginica\n",
            "145  Iris-virginica\n",
            "146  Iris-virginica\n",
            "147  Iris-virginica\n",
            "148  Iris-virginica\n",
            "\n",
            "[149 rows x 1 columns]\n"
          ]
        }
      ]
    },
    {
      "cell_type": "code",
      "metadata": {
        "colab": {
          "base_uri": "https://localhost:8080/",
          "height": 676
        },
        "id": "xWUfAiNar36R",
        "outputId": "6a29a13d-f53c-4bd1-cf76-f4b01e2599f2"
      },
      "source": [
        "import missingno as ms\n",
        "ms.bar(df)"
      ],
      "execution_count": 11,
      "outputs": [
        {
          "output_type": "execute_result",
          "data": {
            "text/plain": [
              "<matplotlib.axes._subplots.AxesSubplot at 0x7f25b9fc1090>"
            ]
          },
          "metadata": {},
          "execution_count": 11
        },
        {
          "output_type": "display_data",
          "data": {
            "image/png": "[encoded data removed]",
            "text/plain": [
              "<Figure size 1800x720 with 3 Axes>"
            ]
          },
          "metadata": {
            "needs_background": "light"
          }
        }
      ]
    },
    {
      "cell_type": "code",
      "metadata": {
        "colab": {
          "base_uri": "https://localhost:8080/",
          "height": 296
        },
        "id": "oRBUM8fZsf0-",
        "outputId": "b6d8f0c6-15f0-4eed-bdc0-af473bb3d84c"
      },
      "source": [
        "import seaborn as sns\n",
        "sns.countplot(y=\"Iris-setosa\",data=df)"
      ],
      "execution_count": 13,
      "outputs": [
        {
          "output_type": "execute_result",
          "data": {
            "text/plain": [
              "<matplotlib.axes._subplots.AxesSubplot at 0x7f25be061490>"
            ]
          },
          "metadata": {},
          "execution_count": 13
        },
        {
          "output_type": "display_data",
          "data": {
            "image/png": "[encoded data removed]",
            "text/plain": [
              "<Figure size 432x288 with 1 Axes>"
            ]
          },
          "metadata": {
            "needs_background": "light"
          }
        }
      ]
    },
    {
      "cell_type": "code",
      "metadata": {
        "colab": {
          "base_uri": "https://localhost:8080/",
          "height": 286
        },
        "id": "8X0mKKd8tiYR",
        "outputId": "c40ffde5-2790-4896-f304-67ef316211af"
      },
      "source": [
        "sns.heatmap(X.corr(),annot=True)"
      ],
      "execution_count": 14,
      "outputs": [
        {
          "output_type": "execute_result",
          "data": {
            "text/plain": [
              "<matplotlib.axes._subplots.AxesSubplot at 0x7f25af5dab50>"
            ]
          },
          "metadata": {},
          "execution_count": 14
        },
        {
          "output_type": "display_data",
          "data": {
            "image/png": "[encoded data removed]",
            "text/plain": [
              "<Figure size 432x288 with 2 Axes>"
            ]
          },
          "metadata": {
            "needs_background": "light"
          }
        }
      ]
    },
    {
      "cell_type": "code",
      "metadata": {
        "colab": {
          "base_uri": "https://localhost:8080/"
        },
        "id": "s3c_A68OuCAr",
        "outputId": "ebaea6e4-0286-48f5-af05-55a236d4f54b"
      },
      "source": [
        "from sklearn.preprocessing import StandardScaler\n",
        "scaler=StandardScaler()\n",
        "X_scaled=scaler.fit_transform(X)\n",
        "print(X_scaled)\n"
      ],
      "execution_count": 15,
      "outputs": [
        {
          "output_type": "stream",
          "name": "stdout",
          "text": [
            "[[-1.1483555  -0.11805969 -1.35396443 -1.32506301]\n",
            " [-1.3905423   0.34485856 -1.41098555 -1.32506301]\n",
            " [-1.51163569  0.11339944 -1.29694332 -1.32506301]\n",
            " [-1.02726211  1.27069504 -1.35396443 -1.32506301]\n",
            " [-0.54288852  1.9650724  -1.18290109 -1.0614657 ]\n",
            " [-1.51163569  0.8077768  -1.35396443 -1.19326436]\n",
            " [-1.02726211  0.8077768  -1.29694332 -1.32506301]\n",
            " [-1.75382249 -0.34951881 -1.35396443 -1.32506301]\n",
            " [-1.1483555   0.11339944 -1.29694332 -1.45686167]\n",
            " [-0.54288852  1.50215416 -1.29694332 -1.32506301]\n",
            " [-1.2694489   0.8077768  -1.23992221 -1.32506301]\n",
            " [-1.2694489  -0.11805969 -1.35396443 -1.45686167]\n",
            " [-1.87491588 -0.11805969 -1.52502777 -1.45686167]\n",
            " [-0.05851493  2.19653152 -1.46800666 -1.32506301]\n",
            " [-0.17960833  3.122368   -1.29694332 -1.0614657 ]\n",
            " [-0.54288852  1.9650724  -1.41098555 -1.0614657 ]\n",
            " [-0.90616871  1.03923592 -1.35396443 -1.19326436]\n",
            " [-0.17960833  1.73361328 -1.18290109 -1.19326436]\n",
            " [-0.90616871  1.73361328 -1.29694332 -1.19326436]\n",
            " [-0.54288852  0.8077768  -1.18290109 -1.32506301]\n",
            " [-0.90616871  1.50215416 -1.29694332 -1.0614657 ]\n",
            " [-1.51163569  1.27069504 -1.58204889 -1.32506301]\n",
            " [-0.90616871  0.57631768 -1.18290109 -0.92966704]\n",
            " [-1.2694489   0.8077768  -1.06885886 -1.32506301]\n",
            " [-1.02726211 -0.11805969 -1.23992221 -1.32506301]\n",
            " [-1.02726211  0.8077768  -1.23992221 -1.0614657 ]\n",
            " [-0.78507531  1.03923592 -1.29694332 -1.32506301]\n",
            " [-0.78507531  0.8077768  -1.35396443 -1.32506301]\n",
            " [-1.3905423   0.34485856 -1.23992221 -1.32506301]\n",
            " [-1.2694489   0.11339944 -1.23992221 -1.32506301]\n",
            " [-0.54288852  0.8077768  -1.29694332 -1.0614657 ]\n",
            " [-0.78507531  2.42799064 -1.29694332 -1.45686167]\n",
            " [-0.42179512  2.65944976 -1.35396443 -1.32506301]\n",
            " [-1.1483555   0.11339944 -1.29694332 -1.45686167]\n",
            " [-1.02726211  0.34485856 -1.46800666 -1.32506301]\n",
            " [-0.42179512  1.03923592 -1.41098555 -1.32506301]\n",
            " [-1.1483555   0.11339944 -1.29694332 -1.45686167]\n",
            " [-1.75382249 -0.11805969 -1.41098555 -1.32506301]\n",
            " [-0.90616871  0.8077768  -1.29694332 -1.32506301]\n",
            " [-1.02726211  1.03923592 -1.41098555 -1.19326436]\n",
            " [-1.63272909 -1.73827353 -1.41098555 -1.19326436]\n",
            " [-1.75382249  0.34485856 -1.41098555 -1.32506301]\n",
            " [-1.02726211  1.03923592 -1.23992221 -0.79786838]\n",
            " [-0.90616871  1.73361328 -1.06885886 -1.0614657 ]\n",
            " [-1.2694489  -0.11805969 -1.35396443 -1.19326436]\n",
            " [-0.90616871  1.73361328 -1.23992221 -1.32506301]\n",
            " [-1.51163569  0.34485856 -1.35396443 -1.32506301]\n",
            " [-0.66398191  1.50215416 -1.29694332 -1.32506301]\n",
            " [-1.02726211  0.57631768 -1.35396443 -1.32506301]\n",
            " [ 1.39460583  0.34485856  0.52773232  0.25652088]\n",
            " [ 0.66804545  0.34485856  0.41369009  0.38831953]\n",
            " [ 1.27351244  0.11339944  0.64177455  0.38831953]\n",
            " [-0.42179512 -1.73827353  0.12858453  0.12472222]\n",
            " [ 0.78913885 -0.58097793  0.47071121  0.38831953]\n",
            " [-0.17960833 -0.58097793  0.41369009  0.12472222]\n",
            " [ 0.54695205  0.57631768  0.52773232  0.52011819]\n",
            " [-1.1483555  -1.50681441 -0.27056327 -0.27067375]\n",
            " [ 0.91023225 -0.34951881  0.47071121  0.12472222]\n",
            " [-0.78507531 -0.81243705  0.07156341  0.25652088]\n",
            " [-1.02726211 -2.43265089 -0.15652104 -0.27067375]\n",
            " [ 0.06257847 -0.11805969  0.24262675  0.38831953]\n",
            " [ 0.18367186 -1.96973265  0.12858453 -0.27067375]\n",
            " [ 0.30476526 -0.34951881  0.52773232  0.25652088]\n",
            " [-0.30070172 -0.34951881 -0.09949993  0.12472222]\n",
            " [ 1.03132564  0.11339944  0.35666898  0.25652088]\n",
            " [-0.30070172 -0.11805969  0.41369009  0.38831953]\n",
            " [-0.05851493 -0.81243705  0.18560564 -0.27067375]\n",
            " [ 0.42585866 -1.96973265  0.41369009  0.38831953]\n",
            " [-0.30070172 -1.27535529  0.07156341 -0.1388751 ]\n",
            " [ 0.06257847  0.34485856  0.58475344  0.78371551]\n",
            " [ 0.30476526 -0.58097793  0.12858453  0.12472222]\n",
            " [ 0.54695205 -1.27535529  0.64177455  0.38831953]\n",
            " [ 0.30476526 -0.58097793  0.52773232 -0.00707644]\n",
            " [ 0.66804545 -0.34951881  0.29964787  0.12472222]\n",
            " [ 0.91023225 -0.11805969  0.35666898  0.25652088]\n",
            " [ 1.15241904 -0.58097793  0.58475344  0.25652088]\n",
            " [ 1.03132564 -0.11805969  0.69879566  0.65191685]\n",
            " [ 0.18367186 -0.34951881  0.41369009  0.38831953]\n",
            " [-0.17960833 -1.04389617 -0.15652104 -0.27067375]\n",
            " [-0.42179512 -1.50681441  0.0145423  -0.1388751 ]\n",
            " [-0.42179512 -1.50681441 -0.04247882 -0.27067375]\n",
            " [-0.05851493 -0.81243705  0.07156341 -0.00707644]\n",
            " [ 0.18367186 -0.81243705  0.75581678  0.52011819]\n",
            " [-0.54288852 -0.11805969  0.41369009  0.38831953]\n",
            " [ 0.18367186  0.8077768   0.41369009  0.52011819]\n",
            " [ 1.03132564  0.11339944  0.52773232  0.38831953]\n",
            " [ 0.54695205 -1.73827353  0.35666898  0.12472222]\n",
            " [-0.30070172 -0.11805969  0.18560564  0.12472222]\n",
            " [-0.42179512 -1.27535529  0.12858453  0.12472222]\n",
            " [-0.42179512 -1.04389617  0.35666898 -0.00707644]\n",
            " [ 0.30476526 -0.11805969  0.47071121  0.25652088]\n",
            " [-0.05851493 -1.04389617  0.12858453 -0.00707644]\n",
            " [-1.02726211 -1.73827353 -0.27056327 -0.27067375]\n",
            " [-0.30070172 -0.81243705  0.24262675  0.12472222]\n",
            " [-0.17960833 -0.11805969  0.24262675 -0.00707644]\n",
            " [-0.17960833 -0.34951881  0.24262675  0.12472222]\n",
            " [ 0.42585866 -0.34951881  0.29964787  0.12472222]\n",
            " [-0.90616871 -1.27535529 -0.44162661 -0.1388751 ]\n",
            " [-0.17960833 -0.58097793  0.18560564  0.12472222]\n",
            " [ 0.54695205  0.57631768  1.2690068   1.70630611]\n",
            " [-0.05851493 -0.81243705  0.75581678  0.91551417]\n",
            " [ 1.51569923 -0.11805969  1.21198569  1.17911148]\n",
            " [ 0.54695205 -0.34951881  1.04092235  0.78371551]\n",
            " [ 0.78913885 -0.11805969  1.15496457  1.31091014]\n",
            " [ 2.12116622 -0.11805969  1.61113348  1.17911148]\n",
            " [-1.1483555  -1.27535529  0.41369009  0.65191685]\n",
            " [ 1.75788602 -0.34951881  1.44007014  0.78371551]\n",
            " [ 1.03132564 -1.27535529  1.15496457  0.78371551]\n",
            " [ 1.63679263  1.27069504  1.32602791  1.70630611]\n",
            " [ 0.78913885  0.34485856  0.75581678  1.04731282]\n",
            " [ 0.66804545 -0.81243705  0.869859    0.91551417]\n",
            " [ 1.15241904 -0.11805969  0.98390123  1.17911148]\n",
            " [-0.17960833 -1.27535529  0.69879566  1.04731282]\n",
            " [-0.05851493 -0.58097793  0.75581678  1.57450745]\n",
            " [ 0.66804545  0.34485856  0.869859    1.4427088 ]\n",
            " [ 0.78913885 -0.11805969  0.98390123  0.78371551]\n",
            " [ 2.24225961  1.73361328  1.6681546   1.31091014]\n",
            " [ 2.24225961 -1.04389617  1.78219682  1.4427088 ]\n",
            " [ 0.18367186 -1.96973265  0.69879566  0.38831953]\n",
            " [ 1.27351244  0.34485856  1.09794346  1.4427088 ]\n",
            " [-0.30070172 -0.58097793  0.64177455  1.04731282]\n",
            " [ 2.24225961 -0.58097793  1.6681546   1.04731282]\n",
            " [ 0.54695205 -0.81243705  0.64177455  0.78371551]\n",
            " [ 1.03132564  0.57631768  1.09794346  1.17911148]\n",
            " [ 1.63679263  0.34485856  1.2690068   0.78371551]\n",
            " [ 0.42585866 -0.58097793  0.58475344  0.78371551]\n",
            " [ 0.30476526 -0.11805969  0.64177455  0.78371551]\n",
            " [ 0.66804545 -0.58097793  1.04092235  1.17911148]\n",
            " [ 1.63679263 -0.11805969  1.15496457  0.52011819]\n",
            " [ 1.87897942 -0.58097793  1.32602791  0.91551417]\n",
            " [ 2.48444641  1.73361328  1.49709126  1.04731282]\n",
            " [ 0.66804545 -0.58097793  1.04092235  1.31091014]\n",
            " [ 0.54695205 -0.58097793  0.75581678  0.38831953]\n",
            " [ 0.30476526 -1.04389617  1.04092235  0.25652088]\n",
            " [ 2.24225961 -0.11805969  1.32602791  1.4427088 ]\n",
            " [ 0.54695205  0.8077768   1.04092235  1.57450745]\n",
            " [ 0.66804545  0.11339944  0.98390123  0.78371551]\n",
            " [ 0.18367186 -0.11805969  0.58475344  0.78371551]\n",
            " [ 1.27351244  0.11339944  0.92688012  1.17911148]\n",
            " [ 1.03132564  0.11339944  1.04092235  1.57450745]\n",
            " [ 1.27351244  0.11339944  0.75581678  1.4427088 ]\n",
            " [-0.05851493 -0.81243705  0.75581678  0.91551417]\n",
            " [ 1.15241904  0.34485856  1.21198569  1.4427088 ]\n",
            " [ 1.03132564  0.57631768  1.09794346  1.70630611]\n",
            " [ 1.03132564 -0.11805969  0.81283789  1.4427088 ]\n",
            " [ 0.54695205 -1.27535529  0.69879566  0.91551417]\n",
            " [ 0.78913885 -0.11805969  0.81283789  1.04731282]\n",
            " [ 0.42585866  0.8077768   0.92688012  1.4427088 ]\n",
            " [ 0.06257847 -0.11805969  0.75581678  0.78371551]]\n"
          ]
        }
      ]
    },
    {
      "cell_type": "code",
      "metadata": {
        "colab": {
          "base_uri": "https://localhost:8080/"
        },
        "id": "Qedk1iDCvTNu",
        "outputId": "44ebba30-26a9-46a1-8a4a-9da7649f1852"
      },
      "source": [
        "import numpy as np\n",
        "features=X_scaled.T\n",
        "cov_matrix=np.cov(features)\n",
        "print(cov_matrix)"
      ],
      "execution_count": 17,
      "outputs": [
        {
          "output_type": "stream",
          "name": "stdout",
          "text": [
            "[[ 1.00675676 -0.10448539  0.87716999  0.82249094]\n",
            " [-0.10448539  1.00675676 -0.41802325 -0.35310295]\n",
            " [ 0.87716999 -0.41802325  1.00675676  0.96881642]\n",
            " [ 0.82249094 -0.35310295  0.96881642  1.00675676]]\n"
          ]
        }
      ]
    },
    {
      "cell_type": "code",
      "metadata": {
        "colab": {
          "base_uri": "https://localhost:8080/"
        },
        "id": "sh5-8d3zwL85",
        "outputId": "ec707895-c8a3-42eb-a4cb-83a9a6c8b82a"
      },
      "source": [
        "values,vectors=np.linalg.eig(cov_matrix)\n",
        "print(values.shape)\n",
        "print(vectors.shape)"
      ],
      "execution_count": 19,
      "outputs": [
        {
          "output_type": "stream",
          "name": "stdout",
          "text": [
            "(4,)\n",
            "(4, 4)\n"
          ]
        }
      ]
    },
    {
      "cell_type": "code",
      "metadata": {
        "colab": {
          "base_uri": "https://localhost:8080/"
        },
        "id": "kR7MT2A8weSu",
        "outputId": "5dfc6a75-4377-4499-c281-d389fe8f51a2"
      },
      "source": [
        "print(vectors)"
      ],
      "execution_count": 20,
      "outputs": [
        {
          "output_type": "stream",
          "name": "stdout",
          "text": [
            "[[ 0.52308496 -0.36956962 -0.72154279  0.26301409]\n",
            " [-0.25956935 -0.92681168  0.2411952  -0.12437342]\n",
            " [ 0.58184289 -0.01912775  0.13962963 -0.80099722]\n",
            " [ 0.56609604 -0.06381646  0.63380158  0.52321917]]\n"
          ]
        }
      ]
    },
    {
      "cell_type": "code",
      "metadata": {
        "colab": {
          "base_uri": "https://localhost:8080/"
        },
        "id": "Ox84N8nlwooU",
        "outputId": "6d49229e-f558-4ed0-b85d-fcd3f20c458e"
      },
      "source": [
        "print(values)"
      ],
      "execution_count": 21,
      "outputs": [
        {
          "output_type": "stream",
          "name": "stdout",
          "text": [
            "[2.92442837 0.93215233 0.14946373 0.02098259]\n"
          ]
        }
      ]
    },
    {
      "cell_type": "code",
      "metadata": {
        "colab": {
          "base_uri": "https://localhost:8080/"
        },
        "id": "RANntsApxCFe",
        "outputId": "91ab2a91-70d0-471e-a785-3742ee32ed03"
      },
      "source": [
        "percentage_variance=[]\n",
        "for i in range (len(values)):\n",
        "  percentage_variance.append(values[i]/np.sum(values))\n",
        "print(percentage_variance)"
      ],
      "execution_count": 22,
      "outputs": [
        {
          "output_type": "stream",
          "name": "stdout",
          "text": [
            "[0.7262003332692032, 0.2314740685864414, 0.03711515564584527, 0.005210442498510154]\n"
          ]
        }
      ]
    },
    {
      "cell_type": "code",
      "metadata": {
        "colab": {
          "base_uri": "https://localhost:8080/"
        },
        "id": "5DNdqKUpyKPK",
        "outputId": "234e6121-0f88-4805-96cf-c2139b14c7ab"
      },
      "source": [
        "projected_1=X_scaled.dot(vectors.T[0])\n",
        "projected_2=X_scaled.dot(vectors.T[1])\n",
        "res=pd.DataFrame(projected_1,columns=['PC1'])\n",
        "res['PC2']=projected_2\n",
        "res['species']=Y\n",
        "print(res)"
      ],
      "execution_count": 23,
      "outputs": [
        {
          "output_type": "stream",
          "name": "stdout",
          "text": [
            "          PC1       PC2         species\n",
            "0   -2.107950  0.644276     Iris-setosa\n",
            "1   -2.387971  0.305833     Iris-setosa\n",
            "2   -2.324879  0.562923     Iris-setosa\n",
            "3   -2.405086 -0.687591     Iris-setosa\n",
            "4   -2.083204 -1.530252     Iris-setosa\n",
            "..        ...       ...             ...\n",
            "144  1.859771 -0.379344  Iris-virginica\n",
            "145  1.542004  0.908086  Iris-virginica\n",
            "146  1.509255 -0.264606  Iris-virginica\n",
            "147  1.369096 -1.015839  Iris-virginica\n",
            "148  0.946803  0.021821  Iris-virginica\n",
            "\n",
            "[149 rows x 3 columns]\n"
          ]
        }
      ]
    },
    {
      "cell_type": "code",
      "metadata": {
        "colab": {
          "base_uri": "https://localhost:8080/",
          "height": 286
        },
        "id": "muZnwcWCzahk",
        "outputId": "acfe46c3-73cd-49c9-a166-98a8a13aa0d1"
      },
      "source": [
        "X=res[['PC1','PC2']]\n",
        "sns.heatmap(X.corr(),annot=True)"
      ],
      "execution_count": 24,
      "outputs": [
        {
          "output_type": "execute_result",
          "data": {
            "text/plain": [
              "<matplotlib.axes._subplots.AxesSubplot at 0x7f25af282b10>"
            ]
          },
          "metadata": {},
          "execution_count": 24
        },
        {
          "output_type": "display_data",
          "data": {
            "image/png": "[encoded data removed]",
            "text/plain": [
              "<Figure size 432x288 with 2 Axes>"
            ]
          },
          "metadata": {
            "needs_background": "light"
          }
        }
      ]
    },
    {
      "cell_type": "code",
      "metadata": {
        "colab": {
          "base_uri": "https://localhost:8080/",
          "height": 296
        },
        "id": "z_taatUJ0AtT",
        "outputId": "1e72d52d-bde0-4b02-9a9f-7588cefe9d9e"
      },
      "source": [
        "res.plot(kind=\"scatter\",x=\"PC1\",y=\"PC2\")"
      ],
      "execution_count": 26,
      "outputs": [
        {
          "output_type": "execute_result",
          "data": {
            "text/plain": [
              "<matplotlib.axes._subplots.AxesSubplot at 0x7f25af195190>"
            ]
          },
          "metadata": {},
          "execution_count": 26
        },
        {
          "output_type": "display_data",
          "data": {
            "image/png": "[encoded data removed]",
            "text/plain": [
              "<Figure size 432x288 with 1 Axes>"
            ]
          },
          "metadata": {
            "needs_background": "light"
          }
        }
      ]
    }
  ]
}